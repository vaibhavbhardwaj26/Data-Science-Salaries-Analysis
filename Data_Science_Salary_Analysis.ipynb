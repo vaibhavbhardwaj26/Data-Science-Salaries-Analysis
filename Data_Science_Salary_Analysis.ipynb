{
 "cells": [
  {
   "cell_type": "markdown",
   "id": "76f370c6",
   "metadata": {},
   "source": [
    "### Importing Neccessary Libraries"
   ]
  },
  {
   "cell_type": "code",
   "execution_count": 1,
   "id": "a964c410",
   "metadata": {},
   "outputs": [],
   "source": [
    "import numpy as np\n",
    "import pandas as pd\n",
    "import seaborn as sns\n",
    "import matplotlib.pyplot as plt"
   ]
  },
  {
   "cell_type": "markdown",
   "id": "8f03d734",
   "metadata": {},
   "source": [
    "### Loading and Reading the Dataset"
   ]
  },
  {
   "cell_type": "code",
   "execution_count": 2,
   "id": "d4fc6674",
   "metadata": {},
   "outputs": [
    {
     "data": {
      "text/html": [
       "<div>\n",
       "<style scoped>\n",
       "    .dataframe tbody tr th:only-of-type {\n",
       "        vertical-align: middle;\n",
       "    }\n",
       "\n",
       "    .dataframe tbody tr th {\n",
       "        vertical-align: top;\n",
       "    }\n",
       "\n",
       "    .dataframe thead th {\n",
       "        text-align: right;\n",
       "    }\n",
       "</style>\n",
       "<table border=\"1\" class=\"dataframe\">\n",
       "  <thead>\n",
       "    <tr style=\"text-align: right;\">\n",
       "      <th></th>\n",
       "      <th>Unnamed: 0</th>\n",
       "      <th>work_year</th>\n",
       "      <th>experience_level</th>\n",
       "      <th>employment_type</th>\n",
       "      <th>job_title</th>\n",
       "      <th>salary</th>\n",
       "      <th>salary_currency</th>\n",
       "      <th>salary_in_usd</th>\n",
       "      <th>employee_residence</th>\n",
       "      <th>remote_ratio</th>\n",
       "      <th>company_location</th>\n",
       "      <th>company_size</th>\n",
       "    </tr>\n",
       "  </thead>\n",
       "  <tbody>\n",
       "    <tr>\n",
       "      <th>0</th>\n",
       "      <td>0</td>\n",
       "      <td>2020</td>\n",
       "      <td>MI</td>\n",
       "      <td>FT</td>\n",
       "      <td>Data Scientist</td>\n",
       "      <td>70000</td>\n",
       "      <td>EUR</td>\n",
       "      <td>79833</td>\n",
       "      <td>DE</td>\n",
       "      <td>0</td>\n",
       "      <td>DE</td>\n",
       "      <td>L</td>\n",
       "    </tr>\n",
       "    <tr>\n",
       "      <th>1</th>\n",
       "      <td>1</td>\n",
       "      <td>2020</td>\n",
       "      <td>SE</td>\n",
       "      <td>FT</td>\n",
       "      <td>Machine Learning Scientist</td>\n",
       "      <td>260000</td>\n",
       "      <td>USD</td>\n",
       "      <td>260000</td>\n",
       "      <td>JP</td>\n",
       "      <td>0</td>\n",
       "      <td>JP</td>\n",
       "      <td>S</td>\n",
       "    </tr>\n",
       "    <tr>\n",
       "      <th>2</th>\n",
       "      <td>2</td>\n",
       "      <td>2020</td>\n",
       "      <td>SE</td>\n",
       "      <td>FT</td>\n",
       "      <td>Big Data Engineer</td>\n",
       "      <td>85000</td>\n",
       "      <td>GBP</td>\n",
       "      <td>109024</td>\n",
       "      <td>GB</td>\n",
       "      <td>50</td>\n",
       "      <td>GB</td>\n",
       "      <td>M</td>\n",
       "    </tr>\n",
       "    <tr>\n",
       "      <th>3</th>\n",
       "      <td>3</td>\n",
       "      <td>2020</td>\n",
       "      <td>MI</td>\n",
       "      <td>FT</td>\n",
       "      <td>Product Data Analyst</td>\n",
       "      <td>20000</td>\n",
       "      <td>USD</td>\n",
       "      <td>20000</td>\n",
       "      <td>HN</td>\n",
       "      <td>0</td>\n",
       "      <td>HN</td>\n",
       "      <td>S</td>\n",
       "    </tr>\n",
       "    <tr>\n",
       "      <th>4</th>\n",
       "      <td>4</td>\n",
       "      <td>2020</td>\n",
       "      <td>SE</td>\n",
       "      <td>FT</td>\n",
       "      <td>Machine Learning Engineer</td>\n",
       "      <td>150000</td>\n",
       "      <td>USD</td>\n",
       "      <td>150000</td>\n",
       "      <td>US</td>\n",
       "      <td>50</td>\n",
       "      <td>US</td>\n",
       "      <td>L</td>\n",
       "    </tr>\n",
       "  </tbody>\n",
       "</table>\n",
       "</div>"
      ],
      "text/plain": [
       "   Unnamed: 0  work_year experience_level employment_type  \\\n",
       "0           0       2020               MI              FT   \n",
       "1           1       2020               SE              FT   \n",
       "2           2       2020               SE              FT   \n",
       "3           3       2020               MI              FT   \n",
       "4           4       2020               SE              FT   \n",
       "\n",
       "                    job_title  salary salary_currency  salary_in_usd  \\\n",
       "0              Data Scientist   70000             EUR          79833   \n",
       "1  Machine Learning Scientist  260000             USD         260000   \n",
       "2           Big Data Engineer   85000             GBP         109024   \n",
       "3        Product Data Analyst   20000             USD          20000   \n",
       "4   Machine Learning Engineer  150000             USD         150000   \n",
       "\n",
       "  employee_residence  remote_ratio company_location company_size  \n",
       "0                 DE             0               DE            L  \n",
       "1                 JP             0               JP            S  \n",
       "2                 GB            50               GB            M  \n",
       "3                 HN             0               HN            S  \n",
       "4                 US            50               US            L  "
      ]
     },
     "execution_count": 2,
     "metadata": {},
     "output_type": "execute_result"
    }
   ],
   "source": [
    "df = pd.read_csv(\"ds_salaries.csv\")\n",
    "df.head()"
   ]
  },
  {
   "cell_type": "markdown",
   "id": "d412670b",
   "metadata": {},
   "source": [
    "#### Understanding the structure of the datsaset"
   ]
  },
  {
   "cell_type": "code",
   "execution_count": 3,
   "id": "bed75165",
   "metadata": {},
   "outputs": [
    {
     "data": {
      "text/plain": [
       "(607, 12)"
      ]
     },
     "execution_count": 3,
     "metadata": {},
     "output_type": "execute_result"
    }
   ],
   "source": [
    "# shape Helps to find the dimensionality ofthe dataset by returning a tuple\n",
    "df.shape"
   ]
  },
  {
   "cell_type": "markdown",
   "id": "125dff76",
   "metadata": {},
   "source": [
    "#### Checking the missing values present in the dataset"
   ]
  },
  {
   "cell_type": "code",
   "execution_count": 4,
   "id": "934b35ff",
   "metadata": {},
   "outputs": [
    {
     "data": {
      "text/plain": [
       "Unnamed: 0            0\n",
       "work_year             0\n",
       "experience_level      0\n",
       "employment_type       0\n",
       "job_title             0\n",
       "salary                0\n",
       "salary_currency       0\n",
       "salary_in_usd         0\n",
       "employee_residence    0\n",
       "remote_ratio          0\n",
       "company_location      0\n",
       "company_size          0\n",
       "dtype: int64"
      ]
     },
     "execution_count": 4,
     "metadata": {},
     "output_type": "execute_result"
    }
   ],
   "source": [
    "# isnull() helps to detect all null values present in the dataset by returning a bool value.\n",
    "# with sum() we can add all the detected null values and present them.\n",
    "df.isnull().sum()"
   ]
  },
  {
   "cell_type": "markdown",
   "id": "c39a6a4c",
   "metadata": {},
   "source": [
    "#### Geting information about the dataset"
   ]
  },
  {
   "cell_type": "code",
   "execution_count": 5,
   "id": "13a28a02",
   "metadata": {},
   "outputs": [
    {
     "name": "stdout",
     "output_type": "stream",
     "text": [
      "<class 'pandas.core.frame.DataFrame'>\n",
      "RangeIndex: 607 entries, 0 to 606\n",
      "Data columns (total 12 columns):\n",
      " #   Column              Non-Null Count  Dtype \n",
      "---  ------              --------------  ----- \n",
      " 0   Unnamed: 0          607 non-null    int64 \n",
      " 1   work_year           607 non-null    int64 \n",
      " 2   experience_level    607 non-null    object\n",
      " 3   employment_type     607 non-null    object\n",
      " 4   job_title           607 non-null    object\n",
      " 5   salary              607 non-null    int64 \n",
      " 6   salary_currency     607 non-null    object\n",
      " 7   salary_in_usd       607 non-null    int64 \n",
      " 8   employee_residence  607 non-null    object\n",
      " 9   remote_ratio        607 non-null    int64 \n",
      " 10  company_location    607 non-null    object\n",
      " 11  company_size        607 non-null    object\n",
      "dtypes: int64(5), object(7)\n",
      "memory usage: 57.0+ KB\n"
     ]
    }
   ],
   "source": [
    "# info() function helps to present  the summarised information of the dataset\n",
    "df.info()"
   ]
  },
  {
   "cell_type": "markdown",
   "id": "f1628e0d",
   "metadata": {},
   "source": [
    "##### Deleting the unrequired column"
   ]
  },
  {
   "cell_type": "code",
   "execution_count": 6,
   "id": "88358d28",
   "metadata": {},
   "outputs": [],
   "source": [
    "# drop() helps to delete the column in dataset\n",
    "df = df.drop(['Unnamed: 0'],axis=1)"
   ]
  },
  {
   "cell_type": "markdown",
   "id": "be7296de",
   "metadata": {},
   "source": [
    "#### Getting list of Unique values"
   ]
  },
  {
   "cell_type": "code",
   "execution_count": 7,
   "id": "1e0bd568",
   "metadata": {},
   "outputs": [
    {
     "data": {
      "text/html": [
       "<div>\n",
       "<style scoped>\n",
       "    .dataframe tbody tr th:only-of-type {\n",
       "        vertical-align: middle;\n",
       "    }\n",
       "\n",
       "    .dataframe tbody tr th {\n",
       "        vertical-align: top;\n",
       "    }\n",
       "\n",
       "    .dataframe thead th {\n",
       "        text-align: right;\n",
       "    }\n",
       "</style>\n",
       "<table border=\"1\" class=\"dataframe\">\n",
       "  <thead>\n",
       "    <tr style=\"text-align: right;\">\n",
       "      <th></th>\n",
       "      <th>Unique_Values</th>\n",
       "    </tr>\n",
       "  </thead>\n",
       "  <tbody>\n",
       "    <tr>\n",
       "      <th>work_year</th>\n",
       "      <td>3</td>\n",
       "    </tr>\n",
       "    <tr>\n",
       "      <th>experience_level</th>\n",
       "      <td>4</td>\n",
       "    </tr>\n",
       "    <tr>\n",
       "      <th>employment_type</th>\n",
       "      <td>4</td>\n",
       "    </tr>\n",
       "    <tr>\n",
       "      <th>job_title</th>\n",
       "      <td>50</td>\n",
       "    </tr>\n",
       "    <tr>\n",
       "      <th>salary</th>\n",
       "      <td>272</td>\n",
       "    </tr>\n",
       "    <tr>\n",
       "      <th>salary_currency</th>\n",
       "      <td>17</td>\n",
       "    </tr>\n",
       "    <tr>\n",
       "      <th>salary_in_usd</th>\n",
       "      <td>369</td>\n",
       "    </tr>\n",
       "    <tr>\n",
       "      <th>employee_residence</th>\n",
       "      <td>57</td>\n",
       "    </tr>\n",
       "    <tr>\n",
       "      <th>remote_ratio</th>\n",
       "      <td>3</td>\n",
       "    </tr>\n",
       "    <tr>\n",
       "      <th>company_location</th>\n",
       "      <td>50</td>\n",
       "    </tr>\n",
       "    <tr>\n",
       "      <th>company_size</th>\n",
       "      <td>3</td>\n",
       "    </tr>\n",
       "  </tbody>\n",
       "</table>\n",
       "</div>"
      ],
      "text/plain": [
       "                    Unique_Values\n",
       "work_year                       3\n",
       "experience_level                4\n",
       "employment_type                 4\n",
       "job_title                      50\n",
       "salary                        272\n",
       "salary_currency                17\n",
       "salary_in_usd                 369\n",
       "employee_residence             57\n",
       "remote_ratio                    3\n",
       "company_location               50\n",
       "company_size                    3"
      ]
     },
     "execution_count": 7,
     "metadata": {},
     "output_type": "execute_result"
    }
   ],
   "source": [
    "dict = {}\n",
    "for col in df.columns:\n",
    "    dict[col]=len(df[col].unique())\n",
    "\n",
    "pd.DataFrame(dict,index=['Unique_Values']).transpose()"
   ]
  },
  {
   "cell_type": "markdown",
   "id": "795f2fdd",
   "metadata": {},
   "source": [
    "#### Getting the statistical information of the dataset"
   ]
  },
  {
   "cell_type": "code",
   "execution_count": 8,
   "id": "26d7f6fd",
   "metadata": {},
   "outputs": [
    {
     "data": {
      "text/html": [
       "<div>\n",
       "<style scoped>\n",
       "    .dataframe tbody tr th:only-of-type {\n",
       "        vertical-align: middle;\n",
       "    }\n",
       "\n",
       "    .dataframe tbody tr th {\n",
       "        vertical-align: top;\n",
       "    }\n",
       "\n",
       "    .dataframe thead th {\n",
       "        text-align: right;\n",
       "    }\n",
       "</style>\n",
       "<table border=\"1\" class=\"dataframe\">\n",
       "  <thead>\n",
       "    <tr style=\"text-align: right;\">\n",
       "      <th></th>\n",
       "      <th>work_year</th>\n",
       "      <th>salary</th>\n",
       "      <th>salary_in_usd</th>\n",
       "      <th>remote_ratio</th>\n",
       "    </tr>\n",
       "  </thead>\n",
       "  <tbody>\n",
       "    <tr>\n",
       "      <th>count</th>\n",
       "      <td>607.000000</td>\n",
       "      <td>6.070000e+02</td>\n",
       "      <td>607.000000</td>\n",
       "      <td>607.00000</td>\n",
       "    </tr>\n",
       "    <tr>\n",
       "      <th>mean</th>\n",
       "      <td>2021.405272</td>\n",
       "      <td>3.240001e+05</td>\n",
       "      <td>112297.869852</td>\n",
       "      <td>70.92257</td>\n",
       "    </tr>\n",
       "    <tr>\n",
       "      <th>std</th>\n",
       "      <td>0.692133</td>\n",
       "      <td>1.544357e+06</td>\n",
       "      <td>70957.259411</td>\n",
       "      <td>40.70913</td>\n",
       "    </tr>\n",
       "    <tr>\n",
       "      <th>min</th>\n",
       "      <td>2020.000000</td>\n",
       "      <td>4.000000e+03</td>\n",
       "      <td>2859.000000</td>\n",
       "      <td>0.00000</td>\n",
       "    </tr>\n",
       "    <tr>\n",
       "      <th>25%</th>\n",
       "      <td>2021.000000</td>\n",
       "      <td>7.000000e+04</td>\n",
       "      <td>62726.000000</td>\n",
       "      <td>50.00000</td>\n",
       "    </tr>\n",
       "    <tr>\n",
       "      <th>50%</th>\n",
       "      <td>2022.000000</td>\n",
       "      <td>1.150000e+05</td>\n",
       "      <td>101570.000000</td>\n",
       "      <td>100.00000</td>\n",
       "    </tr>\n",
       "    <tr>\n",
       "      <th>75%</th>\n",
       "      <td>2022.000000</td>\n",
       "      <td>1.650000e+05</td>\n",
       "      <td>150000.000000</td>\n",
       "      <td>100.00000</td>\n",
       "    </tr>\n",
       "    <tr>\n",
       "      <th>max</th>\n",
       "      <td>2022.000000</td>\n",
       "      <td>3.040000e+07</td>\n",
       "      <td>600000.000000</td>\n",
       "      <td>100.00000</td>\n",
       "    </tr>\n",
       "  </tbody>\n",
       "</table>\n",
       "</div>"
      ],
      "text/plain": [
       "         work_year        salary  salary_in_usd  remote_ratio\n",
       "count   607.000000  6.070000e+02     607.000000     607.00000\n",
       "mean   2021.405272  3.240001e+05  112297.869852      70.92257\n",
       "std       0.692133  1.544357e+06   70957.259411      40.70913\n",
       "min    2020.000000  4.000000e+03    2859.000000       0.00000\n",
       "25%    2021.000000  7.000000e+04   62726.000000      50.00000\n",
       "50%    2022.000000  1.150000e+05  101570.000000     100.00000\n",
       "75%    2022.000000  1.650000e+05  150000.000000     100.00000\n",
       "max    2022.000000  3.040000e+07  600000.000000     100.00000"
      ]
     },
     "execution_count": 8,
     "metadata": {},
     "output_type": "execute_result"
    }
   ],
   "source": [
    "df.describe()"
   ]
  },
  {
   "cell_type": "markdown",
   "id": "6935aeb1",
   "metadata": {},
   "source": [
    "##### WHAT I FOUND UP TILL NOW :\n",
    "\n",
    "1. Dimension of the dataset are : (607,12). It means there are 607 rows and 12 columns present in the dataset.\n",
    "2. Luckily, we have no missing or null values present.\n",
    "3. With the help of info(), We can conclude that in the dataset. Majority of columns are categorical values\n",
    "4. There are 50 job titles, lets further analyze them and see can we group them. This same goes with employee_residence and company location\n",
    "##### CATEGORICAL COLUMNS\n",
    "##### Work Year\n",
    "    Experience Level\n",
    "    Employement Type\n",
    "    Job Title\n",
    "    Salary Currency\n",
    "    Employee Residence\n",
    "    Company Size\n",
    "    Company Location\n",
    "    Remote Ratio\n",
    "\n",
    "##### NUMERTICAL COLUMNS\n",
    "    Salary\n",
    "    Salary in USD"
   ]
  },
  {
   "cell_type": "markdown",
   "id": "ceab33cb",
   "metadata": {},
   "source": [
    "##### Exploring Job title & employee residence column"
   ]
  },
  {
   "cell_type": "code",
   "execution_count": 9,
   "id": "c660d4dc",
   "metadata": {},
   "outputs": [
    {
     "data": {
      "text/plain": [
       "Data Scientist                              143\n",
       "Data Engineer                               132\n",
       "Data Analyst                                 97\n",
       "Machine Learning Engineer                    41\n",
       "Research Scientist                           16\n",
       "Data Science Manager                         12\n",
       "Data Architect                               11\n",
       "Big Data Engineer                             8\n",
       "Machine Learning Scientist                    8\n",
       "Principal Data Scientist                      7\n",
       "AI Scientist                                  7\n",
       "Data Science Consultant                       7\n",
       "Director of Data Science                      7\n",
       "Data Analytics Manager                        7\n",
       "ML Engineer                                   6\n",
       "Computer Vision Engineer                      6\n",
       "BI Data Analyst                               6\n",
       "Lead Data Engineer                            6\n",
       "Data Engineering Manager                      5\n",
       "Business Data Analyst                         5\n",
       "Head of Data                                  5\n",
       "Applied Data Scientist                        5\n",
       "Applied Machine Learning Scientist            4\n",
       "Head of Data Science                          4\n",
       "Analytics Engineer                            4\n",
       "Data Analytics Engineer                       4\n",
       "Machine Learning Developer                    3\n",
       "Machine Learning Infrastructure Engineer      3\n",
       "Lead Data Scientist                           3\n",
       "Computer Vision Software Engineer             3\n",
       "Lead Data Analyst                             3\n",
       "Data Science Engineer                         3\n",
       "Principal Data Engineer                       3\n",
       "Principal Data Analyst                        2\n",
       "ETL Developer                                 2\n",
       "Product Data Analyst                          2\n",
       "Director of Data Engineering                  2\n",
       "Financial Data Analyst                        2\n",
       "Cloud Data Engineer                           2\n",
       "Lead Machine Learning Engineer                1\n",
       "NLP Engineer                                  1\n",
       "Head of Machine Learning                      1\n",
       "3D Computer Vision Researcher                 1\n",
       "Data Specialist                               1\n",
       "Staff Data Scientist                          1\n",
       "Big Data Architect                            1\n",
       "Finance Data Analyst                          1\n",
       "Marketing Data Analyst                        1\n",
       "Machine Learning Manager                      1\n",
       "Data Analytics Lead                           1\n",
       "Name: job_title, dtype: int64"
      ]
     },
     "execution_count": 9,
     "metadata": {},
     "output_type": "execute_result"
    }
   ],
   "source": [
    "df.job_title.value_counts()"
   ]
  },
  {
   "cell_type": "markdown",
   "id": "67e14ce6",
   "metadata": {},
   "source": [
    "After Viewing all job titles. Majority of the title are occuring very low\n",
    "we can divide them into 5 categories:\n",
    "1. Data Scientist\n",
    "2. Data Engineer\n",
    "3. Data Analyst\n",
    "4. Machine Learning Engineer\n",
    "5. Manager"
   ]
  },
  {
   "cell_type": "code",
   "execution_count": 10,
   "id": "ef2f16b1",
   "metadata": {},
   "outputs": [],
   "source": [
    "dum = df.job_title.str.contains('Machine Learning')\n",
    "df.loc[dum,'New_Job_Title']='Machine Learning Engineer'\n",
    "\n",
    "dum = df.job_title.str.contains('Data Scientist')\n",
    "df.loc[dum,'New_Job_Title']='Data Scientist'\n",
    "\n",
    "dum = df.job_title.str.contains('Machine Learning')\n",
    "df.loc[dum,'New_Job_Title']='Machine Learning Engineer'\n",
    "\n",
    "dum = df.job_title.str.contains('Data Analyst')\n",
    "df.loc[dum,'New_Job_Title']='Data Analyst'\n",
    "\n",
    "dum = df.job_title.str.contains('Data Engineer')\n",
    "df.loc[dum,'New_Job_Title']='Data Engineer'\n",
    "\n",
    "dum = df.job_title.str.contains('Manager')\n",
    "df.loc[dum,'New_Job_Title']='Manager'"
   ]
  },
  {
   "cell_type": "markdown",
   "id": "cde06500",
   "metadata": {},
   "source": [
    "checking the null values"
   ]
  },
  {
   "cell_type": "code",
   "execution_count": 11,
   "id": "4fdbe04d",
   "metadata": {},
   "outputs": [
    {
     "data": {
      "text/plain": [
       "90"
      ]
     },
     "execution_count": 11,
     "metadata": {},
     "output_type": "execute_result"
    }
   ],
   "source": [
    "df.New_Job_Title.isnull().sum()"
   ]
  },
  {
   "cell_type": "markdown",
   "id": "9ed50d13",
   "metadata": {},
   "source": [
    "checking which job title didnt get merged"
   ]
  },
  {
   "cell_type": "code",
   "execution_count": 12,
   "id": "29d282e8",
   "metadata": {},
   "outputs": [],
   "source": [
    "df1 = df[(df.New_Job_Title != 'Machine Learning Engineer') & (df.New_Job_Title != 'Data Scientist') & (df.New_Job_Title != 'Data Analyst') & (df.New_Job_Title != 'Data Engineer') & (df.New_Job_Title != 'Manager')]"
   ]
  },
  {
   "cell_type": "code",
   "execution_count": 13,
   "id": "79b8af65",
   "metadata": {},
   "outputs": [
    {
     "data": {
      "text/plain": [
       "Research Scientist                   16\n",
       "Data Architect                       11\n",
       "Data Science Consultant               7\n",
       "AI Scientist                          7\n",
       "Director of Data Science              7\n",
       "ML Engineer                           6\n",
       "Computer Vision Engineer              6\n",
       "Head of Data                          5\n",
       "Head of Data Science                  4\n",
       "Analytics Engineer                    4\n",
       "Data Analytics Engineer               4\n",
       "Computer Vision Software Engineer     3\n",
       "Data Science Engineer                 3\n",
       "ETL Developer                         2\n",
       "Data Specialist                       1\n",
       "Big Data Architect                    1\n",
       "3D Computer Vision Researcher         1\n",
       "NLP Engineer                          1\n",
       "Data Analytics Lead                   1\n",
       "Name: job_title, dtype: int64"
      ]
     },
     "execution_count": 13,
     "metadata": {},
     "output_type": "execute_result"
    }
   ],
   "source": [
    "df1.job_title.value_counts()"
   ]
  },
  {
   "cell_type": "markdown",
   "id": "9221ee01",
   "metadata": {},
   "source": [
    "Including all the left values to get merged in the new_job_title"
   ]
  },
  {
   "cell_type": "code",
   "execution_count": 17,
   "id": "1af7e0c0",
   "metadata": {},
   "outputs": [
    {
     "data": {
      "text/html": [
       "<div>\n",
       "<style scoped>\n",
       "    .dataframe tbody tr th:only-of-type {\n",
       "        vertical-align: middle;\n",
       "    }\n",
       "\n",
       "    .dataframe tbody tr th {\n",
       "        vertical-align: top;\n",
       "    }\n",
       "\n",
       "    .dataframe thead th {\n",
       "        text-align: right;\n",
       "    }\n",
       "</style>\n",
       "<table border=\"1\" class=\"dataframe\">\n",
       "  <thead>\n",
       "    <tr style=\"text-align: right;\">\n",
       "      <th></th>\n",
       "      <th>work_year</th>\n",
       "      <th>experience_level</th>\n",
       "      <th>employment_type</th>\n",
       "      <th>job_title</th>\n",
       "      <th>salary</th>\n",
       "      <th>salary_currency</th>\n",
       "      <th>salary_in_usd</th>\n",
       "      <th>employee_residence</th>\n",
       "      <th>remote_ratio</th>\n",
       "      <th>company_location</th>\n",
       "      <th>company_size</th>\n",
       "      <th>New_Job_Title</th>\n",
       "    </tr>\n",
       "  </thead>\n",
       "  <tbody>\n",
       "    <tr>\n",
       "      <th>0</th>\n",
       "      <td>2020</td>\n",
       "      <td>MI</td>\n",
       "      <td>FT</td>\n",
       "      <td>Data Scientist</td>\n",
       "      <td>70000</td>\n",
       "      <td>EUR</td>\n",
       "      <td>79833</td>\n",
       "      <td>DE</td>\n",
       "      <td>0</td>\n",
       "      <td>DE</td>\n",
       "      <td>L</td>\n",
       "      <td>Data Scientist</td>\n",
       "    </tr>\n",
       "    <tr>\n",
       "      <th>1</th>\n",
       "      <td>2020</td>\n",
       "      <td>SE</td>\n",
       "      <td>FT</td>\n",
       "      <td>Machine Learning Scientist</td>\n",
       "      <td>260000</td>\n",
       "      <td>USD</td>\n",
       "      <td>260000</td>\n",
       "      <td>JP</td>\n",
       "      <td>0</td>\n",
       "      <td>JP</td>\n",
       "      <td>S</td>\n",
       "      <td>Machine Learning Engineer</td>\n",
       "    </tr>\n",
       "    <tr>\n",
       "      <th>2</th>\n",
       "      <td>2020</td>\n",
       "      <td>SE</td>\n",
       "      <td>FT</td>\n",
       "      <td>Big Data Engineer</td>\n",
       "      <td>85000</td>\n",
       "      <td>GBP</td>\n",
       "      <td>109024</td>\n",
       "      <td>GB</td>\n",
       "      <td>50</td>\n",
       "      <td>GB</td>\n",
       "      <td>M</td>\n",
       "      <td>Data Engineer</td>\n",
       "    </tr>\n",
       "    <tr>\n",
       "      <th>3</th>\n",
       "      <td>2020</td>\n",
       "      <td>MI</td>\n",
       "      <td>FT</td>\n",
       "      <td>Product Data Analyst</td>\n",
       "      <td>20000</td>\n",
       "      <td>USD</td>\n",
       "      <td>20000</td>\n",
       "      <td>HN</td>\n",
       "      <td>0</td>\n",
       "      <td>HN</td>\n",
       "      <td>S</td>\n",
       "      <td>Data Analyst</td>\n",
       "    </tr>\n",
       "    <tr>\n",
       "      <th>4</th>\n",
       "      <td>2020</td>\n",
       "      <td>SE</td>\n",
       "      <td>FT</td>\n",
       "      <td>Machine Learning Engineer</td>\n",
       "      <td>150000</td>\n",
       "      <td>USD</td>\n",
       "      <td>150000</td>\n",
       "      <td>US</td>\n",
       "      <td>50</td>\n",
       "      <td>US</td>\n",
       "      <td>L</td>\n",
       "      <td>Machine Learning Engineer</td>\n",
       "    </tr>\n",
       "  </tbody>\n",
       "</table>\n",
       "</div>"
      ],
      "text/plain": [
       "   work_year experience_level employment_type                   job_title  \\\n",
       "0       2020               MI              FT              Data Scientist   \n",
       "1       2020               SE              FT  Machine Learning Scientist   \n",
       "2       2020               SE              FT           Big Data Engineer   \n",
       "3       2020               MI              FT        Product Data Analyst   \n",
       "4       2020               SE              FT   Machine Learning Engineer   \n",
       "\n",
       "   salary salary_currency  salary_in_usd employee_residence  remote_ratio  \\\n",
       "0   70000             EUR          79833                 DE             0   \n",
       "1  260000             USD         260000                 JP             0   \n",
       "2   85000             GBP         109024                 GB            50   \n",
       "3   20000             USD          20000                 HN             0   \n",
       "4  150000             USD         150000                 US            50   \n",
       "\n",
       "  company_location company_size              New_Job_Title  \n",
       "0               DE            L             Data Scientist  \n",
       "1               JP            S  Machine Learning Engineer  \n",
       "2               GB            M              Data Engineer  \n",
       "3               HN            S               Data Analyst  \n",
       "4               US            L  Machine Learning Engineer  "
      ]
     },
     "execution_count": 17,
     "metadata": {},
     "output_type": "execute_result"
    }
   ],
   "source": [
    "dum = df.job_title.str.contains('Reaearch Scientist')\n",
    "df.loc[dum,'New_Job_Title']='Data Scientist'\n",
    "\n",
    "mask = df.job_title.str.contains('AI Scientist')\n",
    "df.loc[mask, 'New_Job_Title'] = 'Data Scientist'\n",
    "\n",
    "dum = df.job_title.str.contains('Data Science Consultant')\n",
    "df.loc[dum,'New_Job_Title']='Data Scientist'\n",
    "\n",
    "\n",
    "dum = df.job_title.str.contains('Director')\n",
    "df.loc[dum,'New_Job_Title']='Manager'\n",
    "\n",
    "dum = df.job_title.str.contains('Lead')\n",
    "df.loc[dum,'New_Job_Title']='Manager'\n",
    "\n",
    "dum = df.job_title.str.contains('Head')\n",
    "df.loc[dum,'New_Job_Title']='Manager'\n",
    "\n",
    "\n",
    "dum = df.job_title.str.contains('Data Architect')\n",
    "df.loc[dum, 'New_Job_Title'] = 'Data Engineer'\n",
    "\n",
    "dum = df.job_title.str.contains('Data Science Engineer')\n",
    "df.loc[dum, 'New_Job_Title'] = 'Data Engineer'\n",
    "\n",
    "dum = df.job_title.str.contains('Data Analytics Engineer')\n",
    "df.loc[dum, 'New_Job_Title'] = 'Data Engineer'\n",
    "\n",
    "dum = df.job_title.str.contains('Big Data Architect')\n",
    "df.loc[dum, 'New_Job_Title'] = 'Data Engineer'\n",
    "\n",
    "dum = df.job_title.str.contains('Analytics Engineer')\n",
    "df.loc[dum, 'New_Job_Title'] = 'Data Engineer'\n",
    "\n",
    "\n",
    "dum = df.job_title.str.contains('ML Engineer')\n",
    "df.loc[dum, 'New_Job_Title'] = 'Machine Learning Engineer'\n",
    "\n",
    "dum = df.job_title.str.contains('Computer Vision Engineer')\n",
    "df.loc[dum, 'New_Job_Title'] = 'Machine Learning Engineer'\n",
    "\n",
    "dum = df.job_title.str.contains('NLP Engineer')\n",
    "df.loc[dum, 'New_Job_Title'] = 'Machine Learning Engineer'\n",
    "\n",
    "\n",
    "dum = df.job_title.str.contains('Computer Vision Software Engineer')\n",
    "df.loc[dum, 'New_Job_Title'] = 'Others'\n",
    "\n",
    "dum = df.job_title.str.contains('ETL Developer')\n",
    "df.loc[dum, 'New_Job_Title'] = 'Others'\n",
    "\n",
    "dum = df.job_title.str.contains('3D Computer Vision Researcher')\n",
    "df.loc[dum, 'New_Job_Title'] = 'Others'\n",
    "\n",
    "dum = df.job_title.str.contains('Data Specialist')\n",
    "df.loc[dum, 'New_Job_Title'] = 'Others'\n",
    "\n",
    "df.head()"
   ]
  },
  {
   "cell_type": "markdown",
   "id": "72f49925",
   "metadata": {},
   "source": [
    "We dont need previous job_title"
   ]
  },
  {
   "cell_type": "code",
   "execution_count": 18,
   "id": "570455be",
   "metadata": {},
   "outputs": [],
   "source": [
    "df = df.drop(['job_title'],axis =1)"
   ]
  },
  {
   "cell_type": "code",
   "execution_count": 19,
   "id": "110ee235",
   "metadata": {},
   "outputs": [],
   "source": [
    "df = df.rename(columns={'New_Job_Title':'job_title'})"
   ]
  },
  {
   "cell_type": "markdown",
   "id": "01898e9f",
   "metadata": {},
   "source": [
    "Updated Job title column. now we can categorize them easliy"
   ]
  },
  {
   "cell_type": "code",
   "execution_count": 20,
   "id": "2eee7140",
   "metadata": {},
   "outputs": [
    {
     "data": {
      "text/plain": [
       "Data Scientist               170\n",
       "Data Engineer                168\n",
       "Data Analyst                 116\n",
       "Machine Learning Engineer     72\n",
       "Manager                       58\n",
       "Others                         7\n",
       "Name: job_title, dtype: int64"
      ]
     },
     "execution_count": 20,
     "metadata": {},
     "output_type": "execute_result"
    }
   ],
   "source": [
    "df.job_title.value_counts()"
   ]
  },
  {
   "cell_type": "code",
   "execution_count": 21,
   "id": "7538e694",
   "metadata": {},
   "outputs": [
    {
     "data": {
      "text/plain": [
       "US    332\n",
       "GB     44\n",
       "IN     30\n",
       "CA     29\n",
       "DE     25\n",
       "FR     18\n",
       "ES     15\n",
       "GR     13\n",
       "JP      7\n",
       "PT      6\n",
       "BR      6\n",
       "PK      6\n",
       "NL      5\n",
       "PL      4\n",
       "IT      4\n",
       "RU      4\n",
       "AE      3\n",
       "AT      3\n",
       "VN      3\n",
       "TR      3\n",
       "AU      3\n",
       "RO      2\n",
       "BE      2\n",
       "SG      2\n",
       "SI      2\n",
       "DK      2\n",
       "HU      2\n",
       "NG      2\n",
       "MX      2\n",
       "BO      1\n",
       "MY      1\n",
       "TN      1\n",
       "IE      1\n",
       "DZ      1\n",
       "AR      1\n",
       "CZ      1\n",
       "JE      1\n",
       "LU      1\n",
       "PR      1\n",
       "RS      1\n",
       "EE      1\n",
       "CL      1\n",
       "HK      1\n",
       "KE      1\n",
       "MD      1\n",
       "CO      1\n",
       "IR      1\n",
       "CN      1\n",
       "MT      1\n",
       "UA      1\n",
       "IQ      1\n",
       "HN      1\n",
       "BG      1\n",
       "HR      1\n",
       "PH      1\n",
       "NZ      1\n",
       "CH      1\n",
       "Name: employee_residence, dtype: int64"
      ]
     },
     "execution_count": 21,
     "metadata": {},
     "output_type": "execute_result"
    }
   ],
   "source": [
    "df.employee_residence.value_counts()"
   ]
  },
  {
   "cell_type": "markdown",
   "id": "4e603b0f",
   "metadata": {},
   "source": [
    "we can see there is same pattern as in job title. lets sort it out by changing it to 'others'"
   ]
  },
  {
   "cell_type": "code",
   "execution_count": 22,
   "id": "2f0d8738",
   "metadata": {},
   "outputs": [],
   "source": [
    "df.loc[df['employee_residence'].map(df['employee_residence'].value_counts(normalize=True).lt(0.03)),'employee_residence'] = 'Others'"
   ]
  },
  {
   "cell_type": "code",
   "execution_count": 23,
   "id": "86e0cf0b",
   "metadata": {},
   "outputs": [
    {
     "data": {
      "text/plain": [
       "US        332\n",
       "Others    147\n",
       "GB         44\n",
       "IN         30\n",
       "CA         29\n",
       "DE         25\n",
       "Name: employee_residence, dtype: int64"
      ]
     },
     "execution_count": 23,
     "metadata": {},
     "output_type": "execute_result"
    }
   ],
   "source": [
    "df.employee_residence.value_counts()"
   ]
  },
  {
   "cell_type": "markdown",
   "id": "e3e383b5",
   "metadata": {},
   "source": [
    "A similar pattern is observed in company location column as well and hence, I'll group the low frequency value into others."
   ]
  },
  {
   "cell_type": "code",
   "execution_count": 24,
   "id": "09793522",
   "metadata": {},
   "outputs": [],
   "source": [
    "df.loc[df['company_location'].map(df['company_location'].value_counts(normalize=True).lt(0.025)), 'company_location'] = 'Others'"
   ]
  },
  {
   "cell_type": "code",
   "execution_count": 25,
   "id": "e6f13ffe",
   "metadata": {},
   "outputs": [
    {
     "data": {
      "text/plain": [
       "US        355\n",
       "Others    123\n",
       "GB         47\n",
       "CA         30\n",
       "DE         28\n",
       "IN         24\n",
       "Name: company_location, dtype: int64"
      ]
     },
     "execution_count": 25,
     "metadata": {},
     "output_type": "execute_result"
    }
   ],
   "source": [
    "df.company_location.value_counts()"
   ]
  },
  {
   "cell_type": "markdown",
   "id": "2bdeac06",
   "metadata": {},
   "source": [
    "Checking again the unique values of the data frame."
   ]
  },
  {
   "cell_type": "code",
   "execution_count": 26,
   "id": "2a1ff6a5",
   "metadata": {},
   "outputs": [
    {
     "data": {
      "text/plain": [
       "work_year               3\n",
       "experience_level        4\n",
       "employment_type         4\n",
       "salary                272\n",
       "salary_currency        17\n",
       "salary_in_usd         369\n",
       "employee_residence      6\n",
       "remote_ratio            3\n",
       "company_location        6\n",
       "company_size            3\n",
       "job_title               6\n",
       "dtype: int64"
      ]
     },
     "execution_count": 26,
     "metadata": {},
     "output_type": "execute_result"
    }
   ],
   "source": [
    "df.nunique()"
   ]
  },
  {
   "cell_type": "markdown",
   "id": "50375324",
   "metadata": {},
   "source": [
    "Univariate Analysis"
   ]
  },
  {
   "cell_type": "code",
   "execution_count": 27,
   "id": "ca354ece",
   "metadata": {},
   "outputs": [
    {
     "data": {
      "image/png": "[encoded data removed]",
      "text/plain": [
       "<Figure size 1080x432 with 1 Axes>"
      ]
     },
     "metadata": {
      "needs_background": "light"
     },
     "output_type": "display_data"
    },
    {
     "data": {
      "image/png": "[encoded data removed]",
      "text/plain": [
       "<Figure size 1080x432 with 1 Axes>"
      ]
     },
     "metadata": {
      "needs_background": "light"
     },
     "output_type": "display_data"
    },
    {
     "data": {
      "image/png": "[encoded data removed]",
      "text/plain": [
       "<Figure size 1080x432 with 1 Axes>"
      ]
     },
     "metadata": {
      "needs_background": "light"
     },
     "output_type": "display_data"
    },
    {
     "data": {
      "image/png": "[encoded data removed]",
      "text/plain": [
       "<Figure size 1080x432 with 1 Axes>"
      ]
     },
     "metadata": {
      "needs_background": "light"
     },
     "output_type": "display_data"
    },
    {
     "data": {
      "image/png": "[encoded data removed]",
      "text/plain": [
       "<Figure size 1080x432 with 1 Axes>"
      ]
     },
     "metadata": {
      "needs_background": "light"
     },
     "output_type": "display_data"
    },
    {
     "data": {
      "image/png": "[encoded data removed]",
      "text/plain": [
       "<Figure size 1080x432 with 1 Axes>"
      ]
     },
     "metadata": {
      "needs_background": "light"
     },
     "output_type": "display_data"
    },
    {
     "data": {
      "image/png": "[encoded data removed]",
      "text/plain": [
       "<Figure size 1080x432 with 1 Axes>"
      ]
     },
     "metadata": {
      "needs_background": "light"
     },
     "output_type": "display_data"
    },
    {
     "data": {
      "image/png": "[encoded data removed]",
      "text/plain": [
       "<Figure size 1080x432 with 1 Axes>"
      ]
     },
     "metadata": {
      "needs_background": "light"
     },
     "output_type": "display_data"
    },
    {
     "data": {
      "image/png": "[encoded data removed]",
      "text/plain": [
       "<Figure size 1080x432 with 1 Axes>"
      ]
     },
     "metadata": {
      "needs_background": "light"
     },
     "output_type": "display_data"
    }
   ],
   "source": [
    "col = ['work_year','experience_level','employment_type','salary_currency','employee_residence','remote_ratio','company_location','company_size','job_title']\n",
    "\n",
    "for i in col:\n",
    "  fig, ax = plt.subplots(1,1, figsize=(15, 6))\n",
    "  sns.countplot(x=i,data = df,palette='CMRmap')"
   ]
  },
  {
   "cell_type": "markdown",
   "id": "8eaceb61",
   "metadata": {},
   "source": [
    "Observations:\n",
    "1. In 2022, The count of work is higher than the previous year\n",
    "2. Most of the people who are working are from US as most of the companies are in US only.\n",
    "3. Employees have been working as full time more than any role.\n",
    "4. Majority of companies are medium level\n",
    "5. Looks like most of the companies are flexible as most of them have high remote ratio"
   ]
  },
  {
   "cell_type": "code",
   "execution_count": 28,
   "id": "8ac5352b",
   "metadata": {
    "scrolled": true
   },
   "outputs": [
    {
     "data": {
      "text/plain": [
       "<AxesSubplot:xlabel='salary_in_usd', ylabel='Count'>"
      ]
     },
     "execution_count": 28,
     "metadata": {},
     "output_type": "execute_result"
    },
    {
     "data": {
      "image/png": "[encoded data removed]",
      "text/plain": [
       "<Figure size 1080x432 with 1 Axes>"
      ]
     },
     "metadata": {
      "needs_background": "light"
     },
     "output_type": "display_data"
    }
   ],
   "source": [
    "fig, ax = plt.subplots(1,1, figsize=(15, 6))\n",
    "sns.histplot(x = df['salary_in_usd'], kde = False)"
   ]
  },
  {
   "cell_type": "markdown",
   "id": "fcf32bda",
   "metadata": {},
   "source": [
    "## BI-VARIATE ANALYSIS"
   ]
  },
  {
   "cell_type": "markdown",
   "id": "00cff63d",
   "metadata": {},
   "source": [
    "### RELATION BTW REMOTE RATIO AND COMPANY SIZE"
   ]
  },
  {
   "cell_type": "code",
   "execution_count": 29,
   "id": "a0b16091",
   "metadata": {
    "scrolled": true
   },
   "outputs": [
    {
     "data": {
      "text/plain": [
       "<AxesSubplot:xlabel='remote_ratio', ylabel='count'>"
      ]
     },
     "execution_count": 29,
     "metadata": {},
     "output_type": "execute_result"
    },
    {
     "data": {
      "image/png": "[encoded data removed]",
      "text/plain": [
       "<Figure size 1080x432 with 1 Axes>"
      ]
     },
     "metadata": {
      "needs_background": "light"
     },
     "output_type": "display_data"
    }
   ],
   "source": [
    "fig, ax = plt.subplots(figsize=(15, 6))\n",
    "sns.countplot(x='remote_ratio',hue='company_size',data = df)"
   ]
  },
  {
   "cell_type": "markdown",
   "id": "cb657968",
   "metadata": {},
   "source": [
    "### Relation between job title and salary"
   ]
  },
  {
   "cell_type": "code",
   "execution_count": 30,
   "id": "434ebe8c",
   "metadata": {
    "scrolled": true
   },
   "outputs": [
    {
     "data": {
      "text/plain": [
       "<AxesSubplot:xlabel='job_title', ylabel='salary_in_usd'>"
      ]
     },
     "execution_count": 30,
     "metadata": {},
     "output_type": "execute_result"
    },
    {
     "data": {
      "image/png": "[encoded data removed]",
      "text/plain": [
       "<Figure size 1080x432 with 1 Axes>"
      ]
     },
     "metadata": {
      "needs_background": "light"
     },
     "output_type": "display_data"
    }
   ],
   "source": [
    "fig, ax = plt.subplots(figsize=(15, 6))\n",
    "sns.barplot(x=df['job_title'],y=df['salary_in_usd'])"
   ]
  },
  {
   "cell_type": "markdown",
   "id": "87131ace",
   "metadata": {},
   "source": [
    "### Relation between experience level and salary"
   ]
  },
  {
   "cell_type": "code",
   "execution_count": 31,
   "id": "609bb8cc",
   "metadata": {},
   "outputs": [
    {
     "data": {
      "text/plain": [
       "<AxesSubplot:xlabel='experience_level', ylabel='salary_in_usd'>"
      ]
     },
     "execution_count": 31,
     "metadata": {},
     "output_type": "execute_result"
    },
    {
     "data": {
      "image/png": "[encoded data removed]",
      "text/plain": [
       "<Figure size 1080x432 with 1 Axes>"
      ]
     },
     "metadata": {
      "needs_background": "light"
     },
     "output_type": "display_data"
    }
   ],
   "source": [
    "fig, ax = plt.subplots(figsize=(15, 6))\n",
    "sns.barplot(x=df['experience_level'],y=df['salary_in_usd'])"
   ]
  },
  {
   "cell_type": "markdown",
   "id": "87a91bb0",
   "metadata": {},
   "source": [
    "### Relation Between experience and company location"
   ]
  },
  {
   "cell_type": "code",
   "execution_count": 32,
   "id": "e6bdee42",
   "metadata": {},
   "outputs": [
    {
     "data": {
      "text/plain": [
       "<AxesSubplot:xlabel='experience_level', ylabel='count'>"
      ]
     },
     "execution_count": 32,
     "metadata": {},
     "output_type": "execute_result"
    },
    {
     "data": {
      "image/png": "[encoded data removed]",
      "text/plain": [
       "<Figure size 1080x432 with 1 Axes>"
      ]
     },
     "metadata": {
      "needs_background": "light"
     },
     "output_type": "display_data"
    }
   ],
   "source": [
    "fig, ax = plt.subplots(figsize=(15, 6))\n",
    "sns.countplot(x = 'experience_level', hue = 'company_location', data = df)"
   ]
  },
  {
   "cell_type": "markdown",
   "id": "eb0e22cf",
   "metadata": {},
   "source": [
    "## relation between employee residence and salary"
   ]
  },
  {
   "cell_type": "code",
   "execution_count": 33,
   "id": "c3610802",
   "metadata": {},
   "outputs": [
    {
     "data": {
      "text/plain": [
       "<AxesSubplot:xlabel='employee_residence', ylabel='salary_in_usd'>"
      ]
     },
     "execution_count": 33,
     "metadata": {},
     "output_type": "execute_result"
    },
    {
     "data": {
      "image/png": "[encoded data removed]",
      "text/plain": [
       "<Figure size 864x432 with 1 Axes>"
      ]
     },
     "metadata": {
      "needs_background": "light"
     },
     "output_type": "display_data"
    }
   ],
   "source": [
    "fig,ax = plt.subplots(figsize =(12,6))\n",
    "sns.barplot(x = 'employee_residence', y = 'salary_in_usd', data = df)"
   ]
  },
  {
   "cell_type": "markdown",
   "id": "95d7c6ea",
   "metadata": {},
   "source": [
    "### relation between company size and salary"
   ]
  },
  {
   "cell_type": "code",
   "execution_count": 34,
   "id": "9e02c259",
   "metadata": {},
   "outputs": [
    {
     "data": {
      "text/plain": [
       "<AxesSubplot:xlabel='company_size', ylabel='salary_in_usd'>"
      ]
     },
     "execution_count": 34,
     "metadata": {},
     "output_type": "execute_result"
    },
    {
     "data": {
      "image/png": "[encoded data removed]",
      "text/plain": [
       "<Figure size 1080x432 with 1 Axes>"
      ]
     },
     "metadata": {
      "needs_background": "light"
     },
     "output_type": "display_data"
    }
   ],
   "source": [
    "fig, ax = plt.subplots(figsize=(15, 6))\n",
    "sns.barplot(x=df['company_size'],y=df['salary_in_usd'])"
   ]
  },
  {
   "cell_type": "markdown",
   "id": "3b4baacd",
   "metadata": {},
   "source": [
    "## MULTI-VARIATE ANALYSIS"
   ]
  },
  {
   "cell_type": "markdown",
   "id": "a79a4be5",
   "metadata": {},
   "source": [
    "### Relation among experience level, salary and company size."
   ]
  },
  {
   "cell_type": "code",
   "execution_count": 38,
   "id": "f13a61f8",
   "metadata": {},
   "outputs": [
    {
     "data": {
      "text/plain": [
       "<AxesSubplot:xlabel='company_size', ylabel='salary_in_usd'>"
      ]
     },
     "execution_count": 38,
     "metadata": {},
     "output_type": "execute_result"
    },
    {
     "data": {
      "image/png": "[encoded data removed]",
      "text/plain": [
       "<Figure size 864x576 with 1 Axes>"
      ]
     },
     "metadata": {
      "needs_background": "light"
     },
     "output_type": "display_data"
    }
   ],
   "source": [
    "fig,ax = plt.subplots(figsize=(12,8))\n",
    "sns.barplot(x=df['company_size'],y=df['salary_in_usd'],hue=df['experience_level'])"
   ]
  },
  {
   "cell_type": "markdown",
   "id": "5ddc804c",
   "metadata": {},
   "source": [
    "### Relation among job title, experience level and salary."
   ]
  },
  {
   "cell_type": "code",
   "execution_count": 39,
   "id": "5d527599",
   "metadata": {},
   "outputs": [
    {
     "data": {
      "text/plain": [
       "<AxesSubplot:xlabel='job_title', ylabel='salary_in_usd'>"
      ]
     },
     "execution_count": 39,
     "metadata": {},
     "output_type": "execute_result"
    },
    {
     "data": {
      "image/png": "[encoded data removed]",
      "text/plain": [
       "<Figure size 864x576 with 1 Axes>"
      ]
     },
     "metadata": {
      "needs_background": "light"
     },
     "output_type": "display_data"
    }
   ],
   "source": [
    "fig,ax = plt.subplots(figsize=(12,8))\n",
    "sns.barplot(x='job_title',y='salary_in_usd',hue='experience_level',data = df )"
   ]
  },
  {
   "cell_type": "markdown",
   "id": "3bbf6573",
   "metadata": {},
   "source": [
    "## FINAL CONCLUSION"
   ]
  },
  {
   "cell_type": "markdown",
   "id": "e4246aad",
   "metadata": {},
   "source": [
    "\n",
    "#### 1.Experience level plays a significant role on salary.\n",
    "\n",
    "#### 2.Among job titles Manager are paid more compared to other job titles.\n",
    "\n",
    "#### 3.Majority of data points are from US and hence it becomes a little difficult to do any analysis based on location"
   ]
  }
 ],
 "metadata": {
  "kernelspec": {
   "display_name": "Python 3.10.4 ('New')",
   "language": "python",
   "name": "python3"
  },
  "language_info": {
   "codemirror_mode": {
    "name": "ipython",
    "version": 3
   },
   "file_extension": ".py",
   "mimetype": "text/x-python",
   "name": "python",
   "nbconvert_exporter": "python",
   "pygments_lexer": "ipython3",
   "version": "3.10.4"
  },
  "vscode": {
   "interpreter": {
    "hash": "e5893d9f8c85ebf78a677d476003955da51d822254e7693971c62c27cc88a8c5"
   }
  }
 },
 "nbformat": 4,
 "nbformat_minor": 5
}
